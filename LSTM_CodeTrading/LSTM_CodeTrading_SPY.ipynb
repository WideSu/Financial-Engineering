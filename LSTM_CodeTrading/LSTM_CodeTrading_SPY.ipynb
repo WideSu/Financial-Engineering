{
 "cells": [
  {
   "cell_type": "markdown",
   "id": "e04821ea",
   "metadata": {},
   "source": [
    "# Predict Target Next Close Using ${seq_length} days Back Candles of NYSE:SPY using LSTM\n",
    "The result from LSTM is quite bad.\n",
    "Todo: try timeseries model [moirai](https://huggingface.co/Salesforce/moirai-1.0-R-large) next time\n",
    "## How to use?\n",
    "Before running, please run `pip install -r requirements.txt` to install packages:\n",
    "- PyTorch\n",
    "- ta\n",
    "- yfinance\n",
    "- etc\n",
    "## Import packages & Parameter settings"
   ]
  },
  {
   "cell_type": "code",
   "execution_count": 1,
   "id": "b29811c3",
   "metadata": {},
   "outputs": [
    {
     "name": "stderr",
     "output_type": "stream",
     "text": [
      "[*********************100%***********************]  1 of 1 completed\n"
     ]
    },
    {
     "data": {
      "text/html": [
       "<div>\n",
       "<style scoped>\n",
       "    .dataframe tbody tr th:only-of-type {\n",
       "        vertical-align: middle;\n",
       "    }\n",
       "\n",
       "    .dataframe tbody tr th {\n",
       "        vertical-align: top;\n",
       "    }\n",
       "\n",
       "    .dataframe thead tr th {\n",
       "        text-align: left;\n",
       "    }\n",
       "\n",
       "    .dataframe thead tr:last-of-type th {\n",
       "        text-align: right;\n",
       "    }\n",
       "</style>\n",
       "<table border=\"1\" class=\"dataframe\">\n",
       "  <thead>\n",
       "    <tr>\n",
       "      <th>Price</th>\n",
       "      <th>Close</th>\n",
       "      <th>High</th>\n",
       "      <th>Low</th>\n",
       "      <th>Open</th>\n",
       "      <th>Volume</th>\n",
       "    </tr>\n",
       "    <tr>\n",
       "      <th>Ticker</th>\n",
       "      <th>SPY</th>\n",
       "      <th>SPY</th>\n",
       "      <th>SPY</th>\n",
       "      <th>SPY</th>\n",
       "      <th>SPY</th>\n",
       "    </tr>\n",
       "    <tr>\n",
       "      <th>Date</th>\n",
       "      <th></th>\n",
       "      <th></th>\n",
       "      <th></th>\n",
       "      <th></th>\n",
       "      <th></th>\n",
       "    </tr>\n",
       "  </thead>\n",
       "  <tbody>\n",
       "    <tr>\n",
       "      <th>2020-03-11</th>\n",
       "      <td>254.365875</td>\n",
       "      <td>261.393495</td>\n",
       "      <td>251.139500</td>\n",
       "      <td>260.243870</td>\n",
       "      <td>255316300</td>\n",
       "    </tr>\n",
       "    <tr>\n",
       "      <th>2020-03-12</th>\n",
       "      <td>230.028839</td>\n",
       "      <td>247.227000</td>\n",
       "      <td>229.630168</td>\n",
       "      <td>237.343850</td>\n",
       "      <td>392220700</td>\n",
       "    </tr>\n",
       "    <tr>\n",
       "      <th>2020-03-13</th>\n",
       "      <td>249.693130</td>\n",
       "      <td>251.695722</td>\n",
       "      <td>230.408942</td>\n",
       "      <td>243.917136</td>\n",
       "      <td>329566100</td>\n",
       "    </tr>\n",
       "    <tr>\n",
       "      <th>2020-03-16</th>\n",
       "      <td>222.370773</td>\n",
       "      <td>238.178232</td>\n",
       "      <td>220.062229</td>\n",
       "      <td>223.603836</td>\n",
       "      <td>297240000</td>\n",
       "    </tr>\n",
       "    <tr>\n",
       "      <th>2020-03-17</th>\n",
       "      <td>234.377060</td>\n",
       "      <td>237.501479</td>\n",
       "      <td>219.793397</td>\n",
       "      <td>227.182565</td>\n",
       "      <td>262070500</td>\n",
       "    </tr>\n",
       "    <tr>\n",
       "      <th>2020-03-18</th>\n",
       "      <td>222.509888</td>\n",
       "      <td>230.269916</td>\n",
       "      <td>211.402940</td>\n",
       "      <td>219.033171</td>\n",
       "      <td>327597100</td>\n",
       "    </tr>\n",
       "    <tr>\n",
       "      <th>2020-03-19</th>\n",
       "      <td>222.982697</td>\n",
       "      <td>229.352051</td>\n",
       "      <td>215.296841</td>\n",
       "      <td>221.814525</td>\n",
       "      <td>289322000</td>\n",
       "    </tr>\n",
       "    <tr>\n",
       "      <th>2020-03-20</th>\n",
       "      <td>213.373428</td>\n",
       "      <td>227.986895</td>\n",
       "      <td>213.093653</td>\n",
       "      <td>226.177695</td>\n",
       "      <td>347158800</td>\n",
       "    </tr>\n",
       "    <tr>\n",
       "      <th>2020-03-23</th>\n",
       "      <td>207.917831</td>\n",
       "      <td>214.194064</td>\n",
       "      <td>203.544047</td>\n",
       "      <td>212.804535</td>\n",
       "      <td>326025200</td>\n",
       "    </tr>\n",
       "    <tr>\n",
       "      <th>2020-03-24</th>\n",
       "      <td>226.755875</td>\n",
       "      <td>227.641833</td>\n",
       "      <td>218.036297</td>\n",
       "      <td>218.614489</td>\n",
       "      <td>235494500</td>\n",
       "    </tr>\n",
       "  </tbody>\n",
       "</table>\n",
       "</div>"
      ],
      "text/plain": [
       "Price            Close        High         Low        Open     Volume\n",
       "Ticker             SPY         SPY         SPY         SPY        SPY\n",
       "Date                                                                 \n",
       "2020-03-11  254.365875  261.393495  251.139500  260.243870  255316300\n",
       "2020-03-12  230.028839  247.227000  229.630168  237.343850  392220700\n",
       "2020-03-13  249.693130  251.695722  230.408942  243.917136  329566100\n",
       "2020-03-16  222.370773  238.178232  220.062229  223.603836  297240000\n",
       "2020-03-17  234.377060  237.501479  219.793397  227.182565  262070500\n",
       "2020-03-18  222.509888  230.269916  211.402940  219.033171  327597100\n",
       "2020-03-19  222.982697  229.352051  215.296841  221.814525  289322000\n",
       "2020-03-20  213.373428  227.986895  213.093653  226.177695  347158800\n",
       "2020-03-23  207.917831  214.194064  203.544047  212.804535  326025200\n",
       "2020-03-24  226.755875  227.641833  218.036297  218.614489  235494500"
      ]
     },
     "execution_count": 1,
     "metadata": {},
     "output_type": "execute_result"
    }
   ],
   "source": [
    "import numpy as np\n",
    "import ta\n",
    "import matplotlib.pyplot as plt\n",
    "import pandas as pd\n",
    "import yfinance as yf\n",
    "import torch\n",
    "import torch.nn as nn\n",
    "import torch.optim as optim\n",
    "from torch.utils.data import DataLoader, TensorDataset, random_split\n",
    "import pandas as pd\n",
    "import numpy as np\n",
    "from sklearn.preprocessing import MinMaxScaler\n",
    "seq_length = 30 # days to look back \n",
    "# Model parameters\n",
    "input_size = 8  # Number of features\n",
    "hidden_size = 128  # Number of LSTM units\n",
    "num_layers = 10  # LSTM layers\n",
    "output_size = 1  # Regression task (single output)\n",
    "start_date = '2020-03-11'\n",
    "end_date = '2025-02-01'\n",
    "# Training parameters\n",
    "num_epochs = 500\n",
    "data = yf.download(tickers = 'SPY', start = start_date, end = end_date)\n",
    "data.head(10)"
   ]
  },
  {
   "cell_type": "code",
   "execution_count": 2,
   "id": "630efe25",
   "metadata": {},
   "outputs": [],
   "source": [
    "data.columns = data.columns.droplevel(1) # drop the multi-level columns"
   ]
  },
  {
   "cell_type": "code",
   "execution_count": 3,
   "id": "a488187d",
   "metadata": {},
   "outputs": [
    {
     "data": {
      "text/plain": [
       "Index(['Close', 'High', 'Low', 'Open', 'Volume'], dtype='object', name='Price')"
      ]
     },
     "execution_count": 3,
     "metadata": {},
     "output_type": "execute_result"
    }
   ],
   "source": [
    "data.columns"
   ]
  },
  {
   "cell_type": "code",
   "execution_count": 4,
   "id": "81444493",
   "metadata": {},
   "outputs": [
    {
     "data": {
      "text/html": [
       "<div>\n",
       "<style scoped>\n",
       "    .dataframe tbody tr th:only-of-type {\n",
       "        vertical-align: middle;\n",
       "    }\n",
       "\n",
       "    .dataframe tbody tr th {\n",
       "        vertical-align: top;\n",
       "    }\n",
       "\n",
       "    .dataframe thead th {\n",
       "        text-align: right;\n",
       "    }\n",
       "</style>\n",
       "<table border=\"1\" class=\"dataframe\">\n",
       "  <thead>\n",
       "    <tr style=\"text-align: right;\">\n",
       "      <th>Price</th>\n",
       "      <th>Close</th>\n",
       "      <th>High</th>\n",
       "      <th>Low</th>\n",
       "      <th>Open</th>\n",
       "      <th>Volume</th>\n",
       "    </tr>\n",
       "    <tr>\n",
       "      <th>Date</th>\n",
       "      <th></th>\n",
       "      <th></th>\n",
       "      <th></th>\n",
       "      <th></th>\n",
       "      <th></th>\n",
       "    </tr>\n",
       "  </thead>\n",
       "  <tbody>\n",
       "    <tr>\n",
       "      <th>2020-03-11</th>\n",
       "      <td>254.365875</td>\n",
       "      <td>261.393495</td>\n",
       "      <td>251.139500</td>\n",
       "      <td>260.243870</td>\n",
       "      <td>255316300</td>\n",
       "    </tr>\n",
       "    <tr>\n",
       "      <th>2020-03-12</th>\n",
       "      <td>230.028839</td>\n",
       "      <td>247.227000</td>\n",
       "      <td>229.630168</td>\n",
       "      <td>237.343850</td>\n",
       "      <td>392220700</td>\n",
       "    </tr>\n",
       "    <tr>\n",
       "      <th>2020-03-13</th>\n",
       "      <td>249.693130</td>\n",
       "      <td>251.695722</td>\n",
       "      <td>230.408942</td>\n",
       "      <td>243.917136</td>\n",
       "      <td>329566100</td>\n",
       "    </tr>\n",
       "    <tr>\n",
       "      <th>2020-03-16</th>\n",
       "      <td>222.370773</td>\n",
       "      <td>238.178232</td>\n",
       "      <td>220.062229</td>\n",
       "      <td>223.603836</td>\n",
       "      <td>297240000</td>\n",
       "    </tr>\n",
       "    <tr>\n",
       "      <th>2020-03-17</th>\n",
       "      <td>234.377060</td>\n",
       "      <td>237.501479</td>\n",
       "      <td>219.793397</td>\n",
       "      <td>227.182565</td>\n",
       "      <td>262070500</td>\n",
       "    </tr>\n",
       "    <tr>\n",
       "      <th>...</th>\n",
       "      <td>...</td>\n",
       "      <td>...</td>\n",
       "      <td>...</td>\n",
       "      <td>...</td>\n",
       "      <td>...</td>\n",
       "    </tr>\n",
       "    <tr>\n",
       "      <th>2025-01-27</th>\n",
       "      <td>599.369995</td>\n",
       "      <td>599.690002</td>\n",
       "      <td>594.640015</td>\n",
       "      <td>594.809998</td>\n",
       "      <td>70361100</td>\n",
       "    </tr>\n",
       "    <tr>\n",
       "      <th>2025-01-28</th>\n",
       "      <td>604.520020</td>\n",
       "      <td>605.369995</td>\n",
       "      <td>597.250000</td>\n",
       "      <td>600.619995</td>\n",
       "      <td>44433300</td>\n",
       "    </tr>\n",
       "    <tr>\n",
       "      <th>2025-01-29</th>\n",
       "      <td>601.809998</td>\n",
       "      <td>604.130005</td>\n",
       "      <td>599.219971</td>\n",
       "      <td>603.719971</td>\n",
       "      <td>37177400</td>\n",
       "    </tr>\n",
       "    <tr>\n",
       "      <th>2025-01-30</th>\n",
       "      <td>605.039978</td>\n",
       "      <td>606.599976</td>\n",
       "      <td>600.719971</td>\n",
       "      <td>603.960022</td>\n",
       "      <td>39281300</td>\n",
       "    </tr>\n",
       "    <tr>\n",
       "      <th>2025-01-31</th>\n",
       "      <td>601.820007</td>\n",
       "      <td>609.960022</td>\n",
       "      <td>601.049988</td>\n",
       "      <td>607.500000</td>\n",
       "      <td>66566900</td>\n",
       "    </tr>\n",
       "  </tbody>\n",
       "</table>\n",
       "<p>1231 rows × 5 columns</p>\n",
       "</div>"
      ],
      "text/plain": [
       "Price            Close        High         Low        Open     Volume\n",
       "Date                                                                 \n",
       "2020-03-11  254.365875  261.393495  251.139500  260.243870  255316300\n",
       "2020-03-12  230.028839  247.227000  229.630168  237.343850  392220700\n",
       "2020-03-13  249.693130  251.695722  230.408942  243.917136  329566100\n",
       "2020-03-16  222.370773  238.178232  220.062229  223.603836  297240000\n",
       "2020-03-17  234.377060  237.501479  219.793397  227.182565  262070500\n",
       "...                ...         ...         ...         ...        ...\n",
       "2025-01-27  599.369995  599.690002  594.640015  594.809998   70361100\n",
       "2025-01-28  604.520020  605.369995  597.250000  600.619995   44433300\n",
       "2025-01-29  601.809998  604.130005  599.219971  603.719971   37177400\n",
       "2025-01-30  605.039978  606.599976  600.719971  603.960022   39281300\n",
       "2025-01-31  601.820007  609.960022  601.049988  607.500000   66566900\n",
       "\n",
       "[1231 rows x 5 columns]"
      ]
     },
     "execution_count": 4,
     "metadata": {},
     "output_type": "execute_result"
    }
   ],
   "source": [
    "data"
   ]
  },
  {
   "cell_type": "markdown",
   "id": "0140e68e",
   "metadata": {},
   "source": [
    "## Feature engineering"
   ]
  },
  {
   "cell_type": "code",
   "execution_count": 5,
   "id": "d7d432cb",
   "metadata": {},
   "outputs": [],
   "source": [
    "date_col = data.index"
   ]
  },
  {
   "cell_type": "code",
   "execution_count": 6,
   "id": "ff0bc977",
   "metadata": {},
   "outputs": [
    {
     "data": {
      "text/plain": [
       "DatetimeIndex(['2020-03-11', '2020-03-12', '2020-03-13', '2020-03-16',\n",
       "               '2020-03-17', '2020-03-18', '2020-03-19', '2020-03-20',\n",
       "               '2020-03-23', '2020-03-24',\n",
       "               ...\n",
       "               '2025-01-17', '2025-01-21', '2025-01-22', '2025-01-23',\n",
       "               '2025-01-24', '2025-01-27', '2025-01-28', '2025-01-29',\n",
       "               '2025-01-30', '2025-01-31'],\n",
       "              dtype='datetime64[ns]', name='Date', length=1231, freq=None)"
      ]
     },
     "execution_count": 6,
     "metadata": {},
     "output_type": "execute_result"
    }
   ],
   "source": [
    "date_col"
   ]
  },
  {
   "cell_type": "code",
   "execution_count": 7,
   "id": "68e700e1",
   "metadata": {},
   "outputs": [
    {
     "name": "stderr",
     "output_type": "stream",
     "text": [
      "/var/folders/h4/j7vdjtxs623fxbdpr31d599r0000gn/T/ipykernel_91316/1704001543.py:10: FutureWarning: Series.__getitem__ treating keys as positions is deprecated. In a future version, integer keys will always be treated as labels (consistent with DataFrame behavior). To access a value by position, use `ser.iloc[pos]`\n",
      "  data['TargetClass'] = [1 if data.Target[i]>0 else 0 for i in range(len(data))]\n"
     ]
    }
   ],
   "source": [
    "# Adding indicators\n",
    "data['RSI']=ta.momentum.rsi(data['Close'], window=15)\n",
    "data['EMAF']=ta.trend.ema_indicator(data['Close'], window=20)\n",
    "data['EMAM']=ta.trend.ema_indicator(data.Close, window=100)\n",
    "data['EMAS']=ta.trend.ema_indicator(data.Close, window=150)\n",
    "\n",
    "data['Target'] = data['Close']-data.Open\n",
    "data['Target'] = data['Target'].shift(-1)\n",
    "\n",
    "data['TargetClass'] = [1 if data.Target[i]>0 else 0 for i in range(len(data))]\n",
    "\n",
    "data['TargetNextClose'] = data['Close'].shift(-1)\n",
    "\n",
    "data.dropna(inplace=True)\n",
    "data.reset_index(inplace = True)\n",
    "data.drop(['Volume', 'Date'], axis=1, inplace=True)"
   ]
  },
  {
   "cell_type": "markdown",
   "id": "ae041754",
   "metadata": {},
   "source": [
    "## Take a look at our data"
   ]
  },
  {
   "cell_type": "code",
   "execution_count": 8,
   "id": "a2b0e972",
   "metadata": {},
   "outputs": [
    {
     "name": "stdout",
     "output_type": "stream",
     "text": [
      "(1081, 11)\n"
     ]
    }
   ],
   "source": [
    "data_set = data.iloc[:, 0:11]#.values\n",
    "pd.set_option('display.max_columns', None)\n",
    "\n",
    "data_set.head(20)\n",
    "print(data_set.shape)\n",
    "#print(data.shape)\n",
    "#print(type(data_set))"
   ]
  },
  {
   "cell_type": "markdown",
   "id": "37dc723c",
   "metadata": {},
   "source": [
    "## Data processing"
   ]
  },
  {
   "cell_type": "code",
   "execution_count": 9,
   "id": "08324ede",
   "metadata": {},
   "outputs": [
    {
     "name": "stdout",
     "output_type": "stream",
     "text": [
      "Train: torch.Size([756, 30, 8])\n",
      "Val: torch.Size([162, 30, 8])\n",
      "Test: torch.Size([133, 1])\n"
     ]
    }
   ],
   "source": [
    "def create_sequences(data, feature_num, seq_length):\n",
    "    data_set = data.iloc[:, list(range(feature_num)) + [-1]].values\n",
    "    sc = MinMaxScaler(feature_range=(0,1))\n",
    "    data_set_scaled = sc.fit_transform(data_set)\n",
    "    X = data_set_scaled[:, :feature_num]\n",
    "    y = data_set_scaled[:, -1]\n",
    "    X_tensor = torch.tensor(np.array([data_set_scaled[i-seq_length:i,:feature_num].copy() for i in range(seq_length,len(data_set_scaled))]), dtype=torch.float32)\n",
    "    y_tensor = torch.tensor([y[i + seq_length] for i in range(len(y) - seq_length)], dtype=torch.float32).view(-1, 1)\n",
    "    # X_tensor = X_tensor.view(data.shape[0], seq_length, feature_num)  # Sequence length = 1 (since we have independent rows)\n",
    "    # Create dataset and split into train/test\n",
    "    # Set the split ratios\n",
    "    train_ratio = 0.7\n",
    "    val_ratio = 0.15\n",
    "\n",
    "    # Calculate the split indices\n",
    "    train_size = int(len(data) * train_ratio)\n",
    "    val_size = int(len(data) * val_ratio)\n",
    "    test_size = len(data) - train_size - val_size\n",
    "\n",
    "    # Split the data based on time awareness (no randomization)\n",
    "    train_data, val_data, test_data = X_tensor[:train_size], X_tensor[train_size:train_size+val_size], X_tensor[train_size+val_size:]\n",
    "    train_targets, val_targets, test_targets = y_tensor[:train_size], y_tensor[train_size:train_size+val_size], y_tensor[train_size+val_size:]\n",
    "    print('Train:',train_data.shape)\n",
    "    print('Val:',val_data.shape)\n",
    "    print('Test:',test_targets.shape)\n",
    "\n",
    "    # Create datasets for PyTorch DataLoader\n",
    "    train_dataset = TensorDataset(train_data, train_targets)\n",
    "    val_dataset = TensorDataset(val_data, val_targets)\n",
    "    test_dataset = TensorDataset(test_data, test_targets)\n",
    "\n",
    "    # Create DataLoaders for batching\n",
    "    train_loader = DataLoader(train_dataset, batch_size=64, shuffle=False)  # No shuffling for time series\n",
    "    val_loader = DataLoader(val_dataset, batch_size=64, shuffle=False)\n",
    "    test_loader = DataLoader(test_dataset, batch_size=64, shuffle=False)\n",
    "    return train_loader, val_loader, test_loader, sc\n",
    "\n",
    "train_loader, val_loader, test_loader, scaler = create_sequences(data, feature_num=input_size, seq_length=seq_length)"
   ]
  },
  {
   "cell_type": "code",
   "execution_count": 10,
   "id": "47c27f55",
   "metadata": {},
   "outputs": [],
   "source": [
    "train_size = train_loader.dataset.tensors[0].shape[0]\n",
    "val_size = val_loader.dataset.tensors[0].shape[0]\n",
    "test_size = test_loader.dataset.tensors[0].shape[0]"
   ]
  },
  {
   "cell_type": "code",
   "execution_count": 11,
   "id": "efe50872",
   "metadata": {},
   "outputs": [
    {
     "data": {
      "text/plain": [
       "1051"
      ]
     },
     "execution_count": 11,
     "metadata": {},
     "output_type": "execute_result"
    }
   ],
   "source": [
    "train_size + val_size + test_size"
   ]
  },
  {
   "cell_type": "code",
   "execution_count": 12,
   "id": "31065c9a",
   "metadata": {},
   "outputs": [
    {
     "data": {
      "text/plain": [
       "133"
      ]
     },
     "execution_count": 12,
     "metadata": {},
     "output_type": "execute_result"
    }
   ],
   "source": [
    "date_show = date_col[-test_size:]\n",
    "len(date_show)"
   ]
  },
  {
   "cell_type": "code",
   "execution_count": 13,
   "id": "223b82c3",
   "metadata": {},
   "outputs": [
    {
     "name": "stdout",
     "output_type": "stream",
     "text": [
      "X is from 25.91 to 610.78\n",
      "y is from 307.09 to 609.75\n"
     ]
    }
   ],
   "source": [
    "X_min = data.iloc[:, 0:input_size].values.min()  # minimum value of original data\n",
    "X_max = data.iloc[:, 0:input_size].values.max()  # maximum value of original data\n",
    "y_min = data.iloc[:, -1].values.min()\n",
    "y_max = data.iloc[:, -1].values.max()\n",
    "print(f'X is from {X_min:.2f} to {X_max:.2f}')\n",
    "print(f'y is from {y_min:.2f} to {y_max:.2f}')"
   ]
  },
  {
   "cell_type": "markdown",
   "id": "474df1db",
   "metadata": {},
   "source": [
    "## Create LSTM Model"
   ]
  },
  {
   "cell_type": "code",
   "execution_count": 14,
   "id": "975edba8",
   "metadata": {},
   "outputs": [],
   "source": [
    "class LSTMModel(nn.Module):\n",
    "    def __init__(self, input_size, hidden_size, num_layers, output_size):\n",
    "        super(LSTMModel, self).__init__()\n",
    "        self.hidden_size = hidden_size\n",
    "        self.num_layers = num_layers\n",
    "        \n",
    "        self.lstm = nn.LSTM(input_size, hidden_size, num_layers, batch_first=True)\n",
    "        self.fc = nn.Linear(hidden_size, output_size)  # Fully connected layer\n",
    "        \n",
    "    def forward(self, x):\n",
    "        h0 = torch.zeros(self.num_layers, x.size(0), self.hidden_size).to(x.device)\n",
    "        c0 = torch.zeros(self.num_layers, x.size(0), self.hidden_size).to(x.device)\n",
    "        \n",
    "        out, _ = self.lstm(x, (h0, c0))  # LSTM forward pass\n",
    "        out = self.fc(out[:, -1, :])  # Take the last timestep output\n",
    "        return out\n",
    "\n",
    "model = LSTMModel(input_size, hidden_size, num_layers, output_size)\n"
   ]
  },
  {
   "cell_type": "markdown",
   "id": "4b7671ee",
   "metadata": {},
   "source": [
    "## Set criterion and optimizer"
   ]
  },
  {
   "cell_type": "code",
   "execution_count": 15,
   "id": "41f82d1c",
   "metadata": {},
   "outputs": [],
   "source": [
    "criterion = nn.MSELoss()  # Mean Squared Error for regression\n",
    "optimizer = optim.Adam(model.parameters(), lr=0.001)"
   ]
  },
  {
   "cell_type": "markdown",
   "id": "a2b58549",
   "metadata": {},
   "source": [
    "## Training"
   ]
  },
  {
   "cell_type": "code",
   "execution_count": 16,
   "id": "67f5e31a",
   "metadata": {},
   "outputs": [
    {
     "name": "stdout",
     "output_type": "stream",
     "text": [
      "Epoch [10/500], Loss: 0.0097\n",
      "Epoch [20/500], Loss: 0.0097\n",
      "Epoch [30/500], Loss: 0.0072\n",
      "Epoch [40/500], Loss: 0.0028\n",
      "Epoch [50/500], Loss: 0.0011\n",
      "Epoch [60/500], Loss: 0.0011\n",
      "Epoch [70/500], Loss: 0.0007\n",
      "Epoch [80/500], Loss: 0.0006\n",
      "Epoch [90/500], Loss: 0.0005\n",
      "Epoch [100/500], Loss: 0.0006\n",
      "Epoch [110/500], Loss: 0.0008\n",
      "Epoch [120/500], Loss: 0.0006\n",
      "Epoch [130/500], Loss: 0.0005\n",
      "Epoch [140/500], Loss: 0.0008\n",
      "Epoch [150/500], Loss: 0.0005\n",
      "Epoch [160/500], Loss: 0.0007\n",
      "Epoch [170/500], Loss: 0.0007\n",
      "Epoch [180/500], Loss: 0.0006\n",
      "Epoch [190/500], Loss: 0.0006\n",
      "Epoch [200/500], Loss: 0.0008\n",
      "Epoch [210/500], Loss: 0.0007\n",
      "Epoch [220/500], Loss: 0.0010\n",
      "Epoch [230/500], Loss: 0.0008\n",
      "Epoch [240/500], Loss: 0.0003\n",
      "Epoch [250/500], Loss: 0.0005\n",
      "Epoch [260/500], Loss: 0.0005\n",
      "Epoch [270/500], Loss: 0.0004\n",
      "Epoch [280/500], Loss: 0.0007\n",
      "Epoch [290/500], Loss: 0.0003\n",
      "Epoch [300/500], Loss: 0.0005\n",
      "Epoch [310/500], Loss: 0.0011\n",
      "Epoch [320/500], Loss: 0.0004\n",
      "Epoch [330/500], Loss: 0.0003\n",
      "Epoch [340/500], Loss: 0.0004\n",
      "Epoch [350/500], Loss: 0.0003\n",
      "Epoch [360/500], Loss: 0.0003\n",
      "Epoch [370/500], Loss: 0.0004\n",
      "Epoch [380/500], Loss: 0.0002\n",
      "Epoch [390/500], Loss: 0.0001\n",
      "Epoch [400/500], Loss: 0.0005\n",
      "Epoch [410/500], Loss: 0.0003\n",
      "Epoch [420/500], Loss: 0.0001\n",
      "Epoch [430/500], Loss: 0.0002\n",
      "Epoch [440/500], Loss: 0.0004\n",
      "Epoch [450/500], Loss: 0.0002\n",
      "Epoch [460/500], Loss: 0.0004\n",
      "Epoch [470/500], Loss: 0.0003\n",
      "Epoch [480/500], Loss: 0.0003\n",
      "Epoch [490/500], Loss: 0.0003\n",
      "Epoch [500/500], Loss: 0.0003\n"
     ]
    }
   ],
   "source": [
    "for epoch in range(num_epochs):\n",
    "    model.train()\n",
    "    total_loss = 0\n",
    "    \n",
    "    for X_batch, y_batch in train_loader:\n",
    "        optimizer.zero_grad()\n",
    "        outputs = model(X_batch)\n",
    "        loss = criterion(outputs, y_batch)\n",
    "        loss.backward()\n",
    "        optimizer.step()\n",
    "        total_loss += loss.item()\n",
    "    \n",
    "    if (epoch+1) % 10 == 0:\n",
    "        print(f\"Epoch [{epoch+1}/{num_epochs}], Loss: {total_loss/len(train_loader):.4f}\")\n"
   ]
  },
  {
   "cell_type": "markdown",
   "id": "50b37c77",
   "metadata": {},
   "source": [
    "## Testing"
   ]
  },
  {
   "cell_type": "code",
   "execution_count": 20,
   "id": "5bb81ecf",
   "metadata": {},
   "outputs": [
    {
     "name": "stdout",
     "output_type": "stream",
     "text": [
      "Test Loss(MSE): 0.2174\n"
     ]
    }
   ],
   "source": [
    "model.eval()\n",
    "test_loss = 0\n",
    "# List to store predictions\n",
    "y_pred_list = []\n",
    "y_test_list = []\n",
    "with torch.no_grad():\n",
    "    for X_batch, y_batch in test_loader:\n",
    "        y_pred = model(X_batch)\n",
    "        y_test_list.append(y_batch)\n",
    "        # Collect predictions\n",
    "        y_pred_list.append(y_pred)\n",
    "        loss = criterion(y_pred, y_batch)\n",
    "        test_loss += loss.item()\n",
    "\n",
    "print(f\"Test Loss(MSE): {test_loss/len(test_loader):.4f}\")\n",
    "# Concatenate predictions into a single tensor\n",
    "y_pred_tensor = torch.cat(y_pred_list, dim=0)\n",
    "\n",
    "# Optionally, convert to NumPy array if needed\n",
    "y_pred = y_pred_tensor.numpy()  # y_pred shape will be (num_samples, 1)\n",
    "\n",
    "# Example: Show the first 5 predictions\n",
    "# print(\"Predictions: \", y_pred[:5])"
   ]
  },
  {
   "cell_type": "code",
   "execution_count": 21,
   "id": "a354c5e5",
   "metadata": {},
   "outputs": [
    {
     "data": {
      "text/plain": [
       "torch.Size([133, 1])"
      ]
     },
     "execution_count": 21,
     "metadata": {},
     "output_type": "execute_result"
    }
   ],
   "source": [
    "test_loader.dataset.tensors[1].shape"
   ]
  },
  {
   "cell_type": "markdown",
   "id": "4133a78c",
   "metadata": {},
   "source": [
    "## Visualize the predicted result"
   ]
  },
  {
   "cell_type": "code",
   "execution_count": 22,
   "id": "18555402",
   "metadata": {},
   "outputs": [
    {
     "data": {
      "image/png": "[encoded data removed]",
      "text/plain": [
       "<Figure size 1600x800 with 1 Axes>"
      ]
     },
     "metadata": {},
     "output_type": "display_data"
    }
   ],
   "source": [
    "visualize_days = test_size\n",
    "plt.figure(figsize=(16,8))\n",
    "y_test_original = [y * (y_max - y_min) + y_min for y in y_test_list] # Reversing normalization\n",
    "y_pred_original = [y * (y_max - y_min) + y_min for y in y_pred_list] # Reversing normalization\n",
    "y_test = np.concatenate([item.numpy().flatten() for item in y_test_original])  # Flatten and concatenate\n",
    "y_pred = np.concatenate([item.numpy().flatten() for item in y_pred_original])  # Flatten and concatenate\n",
    "plt.title(f'Predict Target Next Close Using {seq_length} days Back Candles from {start_date} to {end_date} of NYSE:SPY using LSTM')\n",
    "plt.plot(date_show[-visualize_days:], y_test[-visualize_days:], color = 'black', label = 'Test', marker='o')\n",
    "plt.plot(date_show[-visualize_days:], y_pred[-visualize_days:], color = 'green', label = 'Pred', marker='*')\n",
    "plt.legend(loc='upper left')\n",
    "plt.legend()\n",
    "plt.show()"
   ]
  }
 ],
 "metadata": {
  "kernelspec": {
   "display_name": "env",
   "language": "python",
   "name": "python3"
  },
  "language_info": {
   "codemirror_mode": {
    "name": "ipython",
    "version": 3
   },
   "file_extension": ".py",
   "mimetype": "text/x-python",
   "name": "python",
   "nbconvert_exporter": "python",
   "pygments_lexer": "ipython3",
   "version": "3.13.0"
  }
 },
 "nbformat": 4,
 "nbformat_minor": 5
}
